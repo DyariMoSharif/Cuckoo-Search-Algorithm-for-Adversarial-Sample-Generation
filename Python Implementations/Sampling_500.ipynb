{
 "cells": [
  {
   "cell_type": "markdown",
   "id": "3ab083f2-aad5-4929-9788-61187a2f2ad4",
   "metadata": {},
   "source": [
    "#### Loading Pre-Split Data and Trained Model"
   ]
  },
  {
   "cell_type": "code",
   "execution_count": 2,
   "id": "092ea7d2-2b29-4461-9ce2-83f9fd1c2346",
   "metadata": {},
   "outputs": [],
   "source": [
    "import joblib\n",
    "import numpy as np\n",
    "import tensorflow as tf\n",
    "from sklearn.datasets import fetch_openml\n",
    "from sklearn.model_selection import train_test_split\n",
    "from sklearn.preprocessing import StandardScaler\n",
    "from sklearn.metrics import accuracy_score, precision_score, recall_score, f1_score\n",
    "import matplotlib.pyplot as plt\n",
    "\n",
    "X_train, X_test, y_train, y_test = joblib.load(r\"Train_Test_Splits.pkl\")\n",
    "model = joblib.load(r\"MainModel_1L_MLP.pkl\")"
   ]
  },
  {
   "cell_type": "markdown",
   "id": "8517f9b3-1b6b-4050-8e1d-5043129c37cf",
   "metadata": {},
   "source": [
    "#### Evaluating the already trained Model Performance for Reference with Pre-Split Data"
   ]
  },
  {
   "cell_type": "code",
   "execution_count": 4,
   "id": "cd786f4f-6307-4720-9215-b4a2c79b36cb",
   "metadata": {},
   "outputs": [
    {
     "name": "stdout",
     "output_type": "stream",
     "text": [
      "Accuracy: 0.9739\n",
      "Precision: 0.9737\n",
      "Recall: 0.9736\n",
      "F1 Score: 0.9736\n",
      "--------------\n",
      "False Alarms for each class: [14 17 46 46 30 47 21 50 38 57]\n",
      "False Alarms for all classes: 366\n"
     ]
    }
   ],
   "source": [
    "from sklearn.metrics import confusion_matrix\n",
    "\n",
    "# Evaluate the model on the test data\n",
    "y_pred = model.predict(X_test, verbose=0)\n",
    "y_pred = np.argmax(y_pred, axis=1)  # Convert predictions to class labels\n",
    "\n",
    "# Calculate evaluation metrics\n",
    "accuracy = accuracy_score(y_test, y_pred)\n",
    "precision = precision_score(y_test, y_pred, average='macro')  # 'macro' averages for multi-class classification\n",
    "recall = recall_score(y_test, y_pred, average='macro')\n",
    "f1 = f1_score(y_test, y_pred, average='macro')\n",
    "\n",
    "# Print evaluation metrics\n",
    "print(f\"Accuracy: {accuracy:.4f}\")\n",
    "print(f\"Precision: {precision:.4f}\")\n",
    "print(f\"Recall: {recall:.4f}\")\n",
    "print(f\"F1 Score: {f1:.4f}\")\n",
    "\n",
    "print(\"--------------\")\n",
    "\n",
    "\n",
    "# Compute the confusion matrix\n",
    "cm = confusion_matrix(y_test, y_pred)\n",
    "\n",
    "# False positives for each class (sum of columns except the diagonal)\n",
    "false_positives = cm.sum(axis=0) - np.diagonal(cm)\n",
    "\n",
    "# Print false positives for each class\n",
    "print(\"False Alarms for each class:\", false_positives)\n",
    "print(\"False Alarms for all classes:\", false_positives.sum())\n"
   ]
  },
  {
   "cell_type": "markdown",
   "id": "b614221d-59c2-4d6a-93ef-4351a69c88d1",
   "metadata": {},
   "source": [
    "### [MLP with 1 Layer] Equal Distribution Sampling for Correctly Classified MNIST already-seen Data (500 Samples of train set)"
   ]
  },
  {
   "cell_type": "code",
   "execution_count": 8,
   "id": "bf01f4b3-1ee4-403a-9d73-37fe39d51dcf",
   "metadata": {},
   "outputs": [
    {
     "name": "stdout",
     "output_type": "stream",
     "text": [
      "\u001b[1m1750/1750\u001b[0m \u001b[32m━━━━━━━━━━━━━━━━━━━━\u001b[0m\u001b[37m\u001b[0m \u001b[1m2s\u001b[0m 1ms/step\n"
     ]
    },
    {
     "data": {
      "text/plain": [
       "['Seen_500__Sampled_data.pkl']"
      ]
     },
     "execution_count": 8,
     "metadata": {},
     "output_type": "execute_result"
    }
   ],
   "source": [
    "import numpy as np\n",
    "from sklearn.metrics import accuracy_score\n",
    "\n",
    "# Predict the labels of the train set\n",
    "train_y_pred = model.predict(X_train)\n",
    "\n",
    "# Convert one-hot encoded predictions to class labels (if applicable)\n",
    "train_y_pred_classes = np.argmax(train_y_pred, axis=1)\n",
    "\n",
    "# Identify the correctly classified samples\n",
    "correctly_classified = np.where(train_y_pred_classes == y_train)[0]\n",
    "\n",
    "# We need to sample equally from each digit (0-9)\n",
    "train_sampled_indices = []\n",
    "for digit in range(10):\n",
    "    # Get indices of correctly classified samples for each digit\n",
    "    indices = correctly_classified[y_train[correctly_classified] == digit]\n",
    "    \n",
    "    # Randomly sample 50 indices for each digit (500 total, 50 samples for each digit)\n",
    "    train_sampled_indices.extend(np.random.choice(indices, 50, replace=False))\n",
    "\n",
    "# Get the sampled samples and labels\n",
    "train_X_sampled = X_train[train_sampled_indices]\n",
    "train_y_sampled = y_train[train_sampled_indices]\n",
    "\n",
    "#Saving the model\n",
    "joblib.dump((train_X_sampled,train_y_sampled), 'Seen_500__Sampled_data.pkl')"
   ]
  },
  {
   "cell_type": "markdown",
   "id": "6531130d-ad86-4533-9246-607774116b6e",
   "metadata": {},
   "source": [
    "###  [MLP with 1 Layer] Equal Distribution Sampling for Correctly Classified MNIST Unseen Data (500 Samples of test set)"
   ]
  },
  {
   "cell_type": "code",
   "execution_count": 10,
   "id": "d404a470-ab14-4d63-bfff-6cff0a1d398a",
   "metadata": {},
   "outputs": [
    {
     "name": "stdout",
     "output_type": "stream",
     "text": [
      "\u001b[1m438/438\u001b[0m \u001b[32m━━━━━━━━━━━━━━━━━━━━\u001b[0m\u001b[37m\u001b[0m \u001b[1m1s\u001b[0m 1ms/step\n"
     ]
    },
    {
     "data": {
      "text/plain": [
       "['Unseen_500_Sampled_data.pkl']"
      ]
     },
     "execution_count": 10,
     "metadata": {},
     "output_type": "execute_result"
    }
   ],
   "source": [
    "import numpy as np\n",
    "from sklearn.metrics import accuracy_score\n",
    "\n",
    "# Predict the labels of the test set\n",
    "y_pred = model.predict(X_test)\n",
    "\n",
    "# Convert one-hot encoded predictions to class labels (if applicable)\n",
    "y_pred_classes = np.argmax(y_pred, axis=1)\n",
    "\n",
    "# Identify the correctly classified samples\n",
    "correctly_classified = np.where(y_pred_classes == y_test)[0]\n",
    "\n",
    "# We need to sample equally from each digit (0-9)\n",
    "sampled_indices = []\n",
    "for digit in range(10):\n",
    "    # Get indices of correctly classified samples for each digit\n",
    "    indices = correctly_classified[y_test[correctly_classified] == digit]\n",
    "    \n",
    "    # Randomly sample 50 indices for each digit (500 total, 50 samples for each digit)\n",
    "    sampled_indices.extend(np.random.choice(indices, 50, replace=False))\n",
    "\n",
    "# Get the sampled samples and labels\n",
    "X_sampled = X_test[sampled_indices]\n",
    "y_sampled = y_test[sampled_indices]\n",
    "\n",
    "\n",
    "#Saving the model\n",
    "joblib.dump((X_sampled,y_sampled), 'Unseen_500_Sampled_data.pkl')"
   ]
  },
  {
   "cell_type": "markdown",
   "id": "5c95c06e-65da-468a-a3fe-1f406c269c22",
   "metadata": {},
   "source": [
    "### Equal Distribution Sampling for Correctly Classified MNIST already-seen Data (100 Samples of train set)"
   ]
  },
  {
   "cell_type": "code",
   "execution_count": 12,
   "id": "450b9c0d-437a-4707-84ef-c38c43d012fd",
   "metadata": {},
   "outputs": [
    {
     "name": "stdout",
     "output_type": "stream",
     "text": [
      "\u001b[1m1750/1750\u001b[0m \u001b[32m━━━━━━━━━━━━━━━━━━━━\u001b[0m\u001b[37m\u001b[0m \u001b[1m2s\u001b[0m 1ms/step\n"
     ]
    },
    {
     "data": {
      "text/plain": [
       "['Seen_100__Sampled_data.pkl']"
      ]
     },
     "execution_count": 12,
     "metadata": {},
     "output_type": "execute_result"
    }
   ],
   "source": [
    "\n",
    "# Predict the labels of the train set\n",
    "train10_y_pred = model.predict(X_train)\n",
    "\n",
    "# Convert one-hot encoded predictions to class labels (if applicable)\n",
    "train10_y_pred_classes = np.argmax(train10_y_pred, axis=1)\n",
    "\n",
    "# Identify the correctly classified samples\n",
    "correctly10_classified = np.where(train10_y_pred_classes == y_train)[0]\n",
    "\n",
    "# We need to sample equally from each digit (0-9)\n",
    "train10_sampled_indices = []\n",
    "for digit in range(10):\n",
    "    # Get indices of correctly classified samples for each digit\n",
    "    indices = correctly10_classified[y_train[correctly10_classified] == digit]\n",
    "    \n",
    "    # Randomly sample 50 indices for each digit (100 total, 10 samples for each digit)\n",
    "    train10_sampled_indices.extend(np.random.choice(indices, 10, replace=False))\n",
    "\n",
    "# Get the sampled samples and labels\n",
    "train10_X_sampled = X_train[train10_sampled_indices]\n",
    "train10_y_sampled = y_train[train10_sampled_indices]\n",
    "\n",
    "\n",
    "#Saving the model\n",
    "joblib.dump((train10_X_sampled,train10_y_sampled), 'Seen_100__Sampled_data.pkl')"
   ]
  }
 ],
 "metadata": {
  "kernelspec": {
   "display_name": "Python [conda env:base] *",
   "language": "python",
   "name": "conda-base-py"
  },
  "language_info": {
   "codemirror_mode": {
    "name": "ipython",
    "version": 3
   },
   "file_extension": ".py",
   "mimetype": "text/x-python",
   "name": "python",
   "nbconvert_exporter": "python",
   "pygments_lexer": "ipython3",
   "version": "3.12.7"
  }
 },
 "nbformat": 4,
 "nbformat_minor": 5
}
